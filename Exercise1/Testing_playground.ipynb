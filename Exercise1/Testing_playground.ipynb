{
 "cells": [
  {
   "cell_type": "code",
   "execution_count": 53,
   "id": "a7c83e3a",
   "metadata": {},
   "outputs": [],
   "source": [
    "import numpy as np\n",
    "from astar import random_start_node"
   ]
  },
  {
   "cell_type": "code",
   "execution_count": 68,
   "id": "95b113c3",
   "metadata": {},
   "outputs": [],
   "source": [
    "def manhattan_distance1(start, goal):\n",
    "    \"\"\"\n",
    "    Calculates the distance of the elements in the matrix.\n",
    "    Only works for numbers. Make sure that any number occurs only once per matrix.\n",
    "    \"\"\"\n",
    "    start = np.reshape(start, (3, 3))\n",
    "    goal = np.reshape(goal, (3, 3))\n",
    "    pos_matrix1 = build_position_matrix(start)\n",
    "    pos_matrix2 = build_position_matrix(goal)\n",
    "    n = pos_matrix1.shape\n",
    "    x_init_pos, y_init_pos = pos_matrix1 % n, pos_matrix1 // n\n",
    "    x_goal_pos, y_goal_pos = pos_matrix2 % n, pos_matrix2 // n\n",
    "    distance_x = np.abs(x_goal_pos - x_init_pos)\n",
    "    distance_y = np.abs(y_goal_pos - y_init_pos)\n",
    "    distance = distance_x + distance_y\n",
    "    return np.sum(distance)\n",
    "\n",
    "def manhattan_distance2(start, goal):\n",
    "    \"\"\"\n",
    "    Calculates the distance of the elements in the matrix.\n",
    "    Only works for numbers. Make sure that any number occurs only once per matrix.\n",
    "    \"\"\"\n",
    "    start = np.reshape(start, (3, 3))\n",
    "    goal = np.reshape(goal, (3, 3))\n",
    "    pos_matrix1 = build_position_matrix(start)\n",
    "    pos_matrix2 = build_position_matrix(goal)\n",
    "    return np.sum(np.abs(pos_matrix1 - pos_matrix2))\n",
    "#     n = pos_matrix1.shape\n",
    "#     x_init_pos, y_init_pos = pos_matrix1 % n, pos_matrix1 // n\n",
    "#     x_goal_pos, y_goal_pos = pos_matrix2 % n, pos_matrix2 // n\n",
    "#     distance_x = np.abs(x_goal_pos - x_init_pos)\n",
    "#     distance_y = np.abs(y_goal_pos - y_init_pos)\n",
    "#     distance = distance_x + distance_y\n",
    "#     return np.sum(distance)\n",
    "\n",
    "\n",
    "\n",
    "def build_position_matrix(matrix):\n",
    "    n, m = np.shape(matrix)\n",
    "    nn = n * n\n",
    "    pos_matrix = np.empty(nn, dtype=int)\n",
    "    pos_matrix[matrix.reshape(nn)] = np.arange(nn)\n",
    "    return pos_matrix"
   ]
  },
  {
   "cell_type": "code",
   "execution_count": 69,
   "id": "0694c1ee",
   "metadata": {},
   "outputs": [],
   "source": [
    "initial_state = (2, 4, 0, 5, 6, 1, 8, 7, 3)\n",
    "goal_state = (0, 1, 2, 3, 4, 5, 6, 7, 8)"
   ]
  },
  {
   "cell_type": "code",
   "execution_count": 70,
   "id": "d58559fb",
   "metadata": {},
   "outputs": [
    {
     "data": {
      "text/plain": [
       "array([0, 0, 0, 0, 0, 0, 0, 0, 0], dtype=int8)"
      ]
     },
     "execution_count": 70,
     "metadata": {},
     "output_type": "execute_result"
    }
   ],
   "source": [
    "np.zeros(9, dtype='int8')"
   ]
  },
  {
   "cell_type": "code",
   "execution_count": 71,
   "id": "2da5b681",
   "metadata": {},
   "outputs": [
    {
     "data": {
      "text/plain": [
       "array([0, 1, 2, 3, 4, 5, 6, 7, 8])"
      ]
     },
     "execution_count": 71,
     "metadata": {},
     "output_type": "execute_result"
    }
   ],
   "source": [
    "pos1 = build_position_matrix(np.reshape(initial_state, (3,3)))\n",
    "pos1\n",
    "\n",
    "pos2 = build_position_matrix(np.reshape(goal_state, (3,3)))\n",
    "pos2"
   ]
  },
  {
   "cell_type": "code",
   "execution_count": 72,
   "id": "7b3c9915",
   "metadata": {},
   "outputs": [
    {
     "data": {
      "text/plain": [
       "22"
      ]
     },
     "execution_count": 72,
     "metadata": {},
     "output_type": "execute_result"
    }
   ],
   "source": [
    "manhattan_distance1(initial_state, goal_state)"
   ]
  },
  {
   "cell_type": "code",
   "execution_count": 73,
   "id": "93862572",
   "metadata": {},
   "outputs": [],
   "source": [
    "for i in range (200):\n",
    "    initial_state = random_start_node()\n",
    "    goal_state = (0, 1, 2, 3, 4, 5, 6, 7, 8)\n",
    "    assert manhattan_distance1(initial_state, goal_state) == manhattan_distance2(initial_state, goal_state)\n",
    "    "
   ]
  },
  {
   "cell_type": "code",
   "execution_count": null,
   "id": "e9564779",
   "metadata": {},
   "outputs": [],
   "source": []
  }
 ],
 "metadata": {
  "kernelspec": {
   "display_name": "Python 3",
   "language": "python",
   "name": "python3"
  },
  "language_info": {
   "codemirror_mode": {
    "name": "ipython",
    "version": 3
   },
   "file_extension": ".py",
   "mimetype": "text/x-python",
   "name": "python",
   "nbconvert_exporter": "python",
   "pygments_lexer": "ipython3",
   "version": "3.9.2"
  }
 },
 "nbformat": 4,
 "nbformat_minor": 5
}