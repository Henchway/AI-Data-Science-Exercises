{
 "cells": [
  {
   "cell_type": "markdown",
   "metadata": {},
   "source": [
    "# 8-Puzzle - Analysis of results\n",
    "\n",
    "We're generating unique random puzzles, for which we're assigning 31 different weights per example ranging from 0.7 to 1.0 for the Manhattan distance heuristic and 0.0 to 0.3 for the Hamming distance heuristic.\n",
    "\n",
    "The calculation time is mainly influenced by the depth of the solution path, as well as the mix of the weights of the heuristics. Typically the larger the Hamming distance becomes, the longer the calculation takes, therefore Hamming was capped at 0.3.\n",
    "\n",
    "For the showcase we're taking 1000 unique puzzles, each having 31 weights, which results in 31.000 unique constellations.\n",
    "\n",
    "All data set has the following columns:\n",
    "'array', 'weights', 'visited_nodes', 'expanded_nodes','branching_factor', 'time_elapsed_astar', 'depth'\n"
   ]
  },
  {
   "cell_type": "code",
   "execution_count": 32,
   "metadata": {
    "scrolled": false
   },
   "outputs": [],
   "source": [
    "import jsonpickle\n",
    "import matplotlib.pyplot as plt\n",
    "import numpy as np\n",
    "import pandas as pd\n",
    "\n",
    "with open(\"results_1000_2021-05-05.json\", \"r\") as file:\n",
    "    contents = file.read()\n",
    "    unfrozen = jsonpickle.decode(contents)\n",
    "\n",
    "df = pd.DataFrame(unfrozen)"
   ]
  },
  {
   "cell_type": "code",
   "execution_count": 41,
   "metadata": {},
   "outputs": [
    {
     "data": {
      "text/html": [
       "<div>\n",
       "<style scoped>\n",
       "    .dataframe tbody tr th:only-of-type {\n",
       "        vertical-align: middle;\n",
       "    }\n",
       "\n",
       "    .dataframe tbody tr th {\n",
       "        vertical-align: top;\n",
       "    }\n",
       "\n",
       "    .dataframe thead th {\n",
       "        text-align: right;\n",
       "    }\n",
       "</style>\n",
       "<table border=\"1\" class=\"dataframe\">\n",
       "  <thead>\n",
       "    <tr style=\"text-align: right;\">\n",
       "      <th></th>\n",
       "      <th>array</th>\n",
       "      <th>weights</th>\n",
       "      <th>visited_nodes</th>\n",
       "      <th>expanded_nodes</th>\n",
       "      <th>branching_factor</th>\n",
       "      <th>time_elapsed_astar</th>\n",
       "      <th>depth</th>\n",
       "    </tr>\n",
       "  </thead>\n",
       "  <tbody>\n",
       "    <tr>\n",
       "      <th>3938</th>\n",
       "      <td>(2, 1, 0, 5, 4, 6, 8, 7, 3)</td>\n",
       "      <td>(0.99, 0.01)</td>\n",
       "      <td>41843</td>\n",
       "      <td>24610</td>\n",
       "      <td>1.700203</td>\n",
       "      <td>158.512108</td>\n",
       "      <td>34</td>\n",
       "    </tr>\n",
       "    <tr>\n",
       "      <th>1432</th>\n",
       "      <td>(8, 6, 5, 7, 3, 2, 4, 1, 0)</td>\n",
       "      <td>(0.94, 0.06)</td>\n",
       "      <td>7997</td>\n",
       "      <td>4762</td>\n",
       "      <td>1.679126</td>\n",
       "      <td>8.069056</td>\n",
       "      <td>34</td>\n",
       "    </tr>\n",
       "    <tr>\n",
       "      <th>1430</th>\n",
       "      <td>(8, 6, 5, 7, 3, 2, 4, 1, 0)</td>\n",
       "      <td>(0.96, 0.04)</td>\n",
       "      <td>7923</td>\n",
       "      <td>4719</td>\n",
       "      <td>1.678745</td>\n",
       "      <td>8.120467</td>\n",
       "      <td>34</td>\n",
       "    </tr>\n",
       "    <tr>\n",
       "      <th>1429</th>\n",
       "      <td>(8, 6, 5, 7, 3, 2, 4, 1, 0)</td>\n",
       "      <td>(0.97, 0.03)</td>\n",
       "      <td>7946</td>\n",
       "      <td>4734</td>\n",
       "      <td>1.678285</td>\n",
       "      <td>7.997464</td>\n",
       "      <td>34</td>\n",
       "    </tr>\n",
       "    <tr>\n",
       "      <th>3941</th>\n",
       "      <td>(2, 1, 0, 5, 4, 6, 8, 7, 3)</td>\n",
       "      <td>(0.96, 0.04)</td>\n",
       "      <td>41830</td>\n",
       "      <td>24606</td>\n",
       "      <td>1.699951</td>\n",
       "      <td>153.195456</td>\n",
       "      <td>34</td>\n",
       "    </tr>\n",
       "    <tr>\n",
       "      <th>...</th>\n",
       "      <td>...</td>\n",
       "      <td>...</td>\n",
       "      <td>...</td>\n",
       "      <td>...</td>\n",
       "      <td>...</td>\n",
       "      <td>...</td>\n",
       "      <td>...</td>\n",
       "    </tr>\n",
       "    <tr>\n",
       "      <th>28474</th>\n",
       "      <td>(3, 1, 5, 0, 2, 4, 6, 7, 8)</td>\n",
       "      <td>(0.84, 0.16)</td>\n",
       "      <td>28</td>\n",
       "      <td>15</td>\n",
       "      <td>1.800000</td>\n",
       "      <td>0.010088</td>\n",
       "      <td>7</td>\n",
       "    </tr>\n",
       "    <tr>\n",
       "      <th>28473</th>\n",
       "      <td>(3, 1, 5, 0, 2, 4, 6, 7, 8)</td>\n",
       "      <td>(0.85, 0.15)</td>\n",
       "      <td>28</td>\n",
       "      <td>15</td>\n",
       "      <td>1.800000</td>\n",
       "      <td>0.000000</td>\n",
       "      <td>7</td>\n",
       "    </tr>\n",
       "    <tr>\n",
       "      <th>28472</th>\n",
       "      <td>(3, 1, 5, 0, 2, 4, 6, 7, 8)</td>\n",
       "      <td>(0.86, 0.14)</td>\n",
       "      <td>28</td>\n",
       "      <td>15</td>\n",
       "      <td>1.800000</td>\n",
       "      <td>0.010110</td>\n",
       "      <td>7</td>\n",
       "    </tr>\n",
       "    <tr>\n",
       "      <th>28471</th>\n",
       "      <td>(3, 1, 5, 0, 2, 4, 6, 7, 8)</td>\n",
       "      <td>(0.87, 0.13)</td>\n",
       "      <td>28</td>\n",
       "      <td>15</td>\n",
       "      <td>1.800000</td>\n",
       "      <td>0.000000</td>\n",
       "      <td>7</td>\n",
       "    </tr>\n",
       "    <tr>\n",
       "      <th>28462</th>\n",
       "      <td>(3, 1, 5, 0, 2, 4, 6, 7, 8)</td>\n",
       "      <td>(0.96, 0.04)</td>\n",
       "      <td>28</td>\n",
       "      <td>15</td>\n",
       "      <td>1.800000</td>\n",
       "      <td>0.000000</td>\n",
       "      <td>7</td>\n",
       "    </tr>\n",
       "  </tbody>\n",
       "</table>\n",
       "<p>31000 rows × 7 columns</p>\n",
       "</div>"
      ],
      "text/plain": [
       "                             array       weights  visited_nodes  \\\n",
       "3938   (2, 1, 0, 5, 4, 6, 8, 7, 3)  (0.99, 0.01)          41843   \n",
       "1432   (8, 6, 5, 7, 3, 2, 4, 1, 0)  (0.94, 0.06)           7997   \n",
       "1430   (8, 6, 5, 7, 3, 2, 4, 1, 0)  (0.96, 0.04)           7923   \n",
       "1429   (8, 6, 5, 7, 3, 2, 4, 1, 0)  (0.97, 0.03)           7946   \n",
       "3941   (2, 1, 0, 5, 4, 6, 8, 7, 3)  (0.96, 0.04)          41830   \n",
       "...                            ...           ...            ...   \n",
       "28474  (3, 1, 5, 0, 2, 4, 6, 7, 8)  (0.84, 0.16)             28   \n",
       "28473  (3, 1, 5, 0, 2, 4, 6, 7, 8)  (0.85, 0.15)             28   \n",
       "28472  (3, 1, 5, 0, 2, 4, 6, 7, 8)  (0.86, 0.14)             28   \n",
       "28471  (3, 1, 5, 0, 2, 4, 6, 7, 8)  (0.87, 0.13)             28   \n",
       "28462  (3, 1, 5, 0, 2, 4, 6, 7, 8)  (0.96, 0.04)             28   \n",
       "\n",
       "       expanded_nodes  branching_factor  time_elapsed_astar  depth  \n",
       "3938            24610          1.700203          158.512108     34  \n",
       "1432             4762          1.679126            8.069056     34  \n",
       "1430             4719          1.678745            8.120467     34  \n",
       "1429             4734          1.678285            7.997464     34  \n",
       "3941            24606          1.699951          153.195456     34  \n",
       "...               ...               ...                 ...    ...  \n",
       "28474              15          1.800000            0.010088      7  \n",
       "28473              15          1.800000            0.000000      7  \n",
       "28472              15          1.800000            0.010110      7  \n",
       "28471              15          1.800000            0.000000      7  \n",
       "28462              15          1.800000            0.000000      7  \n",
       "\n",
       "[31000 rows x 7 columns]"
      ]
     },
     "execution_count": 41,
     "metadata": {},
     "output_type": "execute_result"
    }
   ],
   "source": [
    "df.sort_values('depth', ascending=False)"
   ]
  },
  {
   "cell_type": "markdown",
   "metadata": {},
   "source": [
    "# Nomenclature\n",
    "\n",
    "(This may be interpreted in a few different ways, so I'll state it here)\n",
    "\n",
    "- Visited Nodes. All nodes in the tree (visited in the sense as actually generated in the code)\n",
    "- Expanded Nodes: All nodes which have children (non-leaf nodes)"
   ]
  },
  {
   "cell_type": "markdown",
   "metadata": {},
   "source": [
    "## Puzzle-distribution by depth\n",
    "Group results by depth (= how many steps were required to finish the puzzle), show the distribution of depths as chart"
   ]
  },
  {
   "cell_type": "code",
   "execution_count": 2,
   "metadata": {
    "scrolled": false
   },
   "outputs": [
    {
     "data": {
      "image/png": "[encoded data removed]",
      "text/plain": [
       "<Figure size 1080x360 with 1 Axes>"
      ]
     },
     "metadata": {
      "needs_background": "light"
     },
     "output_type": "display_data"
    }
   ],
   "source": [
    "group = df.groupby(['depth'])\n",
    "x_pos = [i for i, _ in enumerate(group)]\n",
    "fig, ax = plt.subplots(figsize=(15, 5))\n",
    "plt.xticks(list(group.groups.keys()))\n",
    "ax.bar(list(group.groups.keys()), list(group.size()))\n",
    "plt.show()\n",
    "\n",
    "# In all our previous tests it has shown that when using a random generation of puzzles,\n",
    "# a seemingly gaussian distribution of puzzle-depths occurs\n"
   ]
  },
  {
   "cell_type": "markdown",
   "metadata": {},
   "source": [
    "## Print constellation for all (average)\n",
    "\n",
    "Shows the average expanded nodes based on the weight"
   ]
  },
  {
   "cell_type": "markdown",
   "metadata": {},
   "source": [
    "### Average expanded & visited nodes"
   ]
  },
  {
   "cell_type": "code",
   "execution_count": 3,
   "metadata": {
    "scrolled": false
   },
   "outputs": [
    {
     "data": {
      "image/png": "[encoded data removed]",
      "text/plain": [
       "<Figure size 1080x360 with 2 Axes>"
      ]
     },
     "metadata": {
      "needs_background": "light"
     },
     "output_type": "display_data"
    },
    {
     "data": {
      "image/png": "[encoded data removed]",
      "text/plain": [
       "<Figure size 1080x360 with 2 Axes>"
      ]
     },
     "metadata": {
      "needs_background": "light"
     },
     "output_type": "display_data"
    }
   ],
   "source": [
    "weight_group = df.groupby(['weights'])\n",
    "\n",
    "# Expanded nodes\n",
    "x1 = np.array(list(weight_group.groups.keys()))[:, 0]\n",
    "x2 = np.array(list(weight_group.groups.keys()))[:, 1]\n",
    "y1 = weight_group['expanded_nodes'].mean()\n",
    "\n",
    "# Visited nodes\n",
    "y2 = weight_group['visited_nodes'].mean()\n",
    "\n",
    "# Expanded nodes Manhattan\n",
    "fig, ax = plt.subplots(1, 2, figsize=(15, 5))\n",
    "ax[1].set_title(\"Expanded Nodes - Manhattan\")\n",
    "ax[1].plot(x1, y1, \"b--\", label=\"Manhattan weight\")\n",
    "ax[1].set_xlabel(\"Weight ratio\")\n",
    "ax[1].set_ylabel(\"Average expanded nodes\")\n",
    "ax[1].legend()\n",
    "\n",
    "# Expanded nodes Hamming\n",
    "ax[0].set_title(\"Expanded Nodes - Hamming\")\n",
    "ax[0].plot(x2, y1, \"r\", label=\"Hamming weight\")\n",
    "ax[0].set_xlabel(\"Weight ratio\")\n",
    "ax[0].set_ylabel(\"Average expanded nodes\")\n",
    "ax[0].legend()\n",
    "plt.show()\n",
    "\n",
    "# Visited nodes Manhattan\n",
    "fig, ax = plt.subplots(1, 2, figsize=(15, 5))\n",
    "ax[1].set_title(\"Visited Nodes - Manhattan\")\n",
    "ax[1].plot(x1, y2, \"g--\", label=\"Manhattan weight\")\n",
    "ax[1].set_xlabel(\"Weight ratio\")\n",
    "ax[1].set_ylabel(\"Average expanded nodes\")\n",
    "ax[1].legend()\n",
    "\n",
    "# Visited nodes Hamming\n",
    "ax[0].set_title(\"Visited Nodes - Hamming\")\n",
    "ax[0].plot(x2, y2, \"m\", label=\"Hamming weight\")\n",
    "ax[0].set_xlabel(\"Weight ratio\")\n",
    "ax[0].set_ylabel(\"Average expanded nodes\")\n",
    "ax[0].legend()\n",
    "plt.show()\n",
    "\n",
    "# We can see that expanded and visited nodes follow a very similar curve."
   ]
  },
  {
   "cell_type": "markdown",
   "metadata": {},
   "source": [
    "### Average Branching factor"
   ]
  },
  {
   "cell_type": "code",
   "execution_count": 4,
   "metadata": {
    "pycharm": {
     "name": "#%%\n"
    },
    "scrolled": false
   },
   "outputs": [
    {
     "data": {
      "image/png": "[encoded data removed]",
      "text/plain": [
       "<Figure size 1080x360 with 2 Axes>"
      ]
     },
     "metadata": {
      "needs_background": "light"
     },
     "output_type": "display_data"
    },
    {
     "data": {
      "image/png": "[encoded data removed]",
      "text/plain": [
       "<Figure size 1080x360 with 2 Axes>"
      ]
     },
     "metadata": {
      "needs_background": "light"
     },
     "output_type": "display_data"
    }
   ],
   "source": [
    "weight_group = df.groupby(['weights'])\n",
    "\n",
    "# Branching factor\n",
    "x1 = np.array(list(weight_group.groups.keys()))[:, 0]\n",
    "x2 = np.array(list(weight_group.groups.keys()))[:, 1]\n",
    "y1 = weight_group['branching_factor'].mean()\n",
    "y2 = weight_group['branching_factor'].max()\n",
    "y3 = weight_group['branching_factor'].min()\n",
    "\n",
    "\n",
    "# Branching Factor Manhattan\n",
    "fig, ax = plt.subplots(1,2, figsize=(15, 5))\n",
    "ax[1].set_title(\"Branching Factor - Manhattan\")\n",
    "ax[1].plot(x1, y1, \"r--\", label=\"Manhattan - mean\")\n",
    "ax[1].plot(x1, y2, \"g--\", label=\"Manhattan - max\")\n",
    "ax[1].plot(x1, y3, \"b--\", label=\"Manhattan - min\")\n",
    "ax[1].set_xlabel(\"Weight ratio\")\n",
    "ax[1].set_ylabel(\"Branching Factor\")\n",
    "ax[1].legend()\n",
    "\n",
    "# Branching factor Hamming\n",
    "ax[0].set_title(\"Branching Factor - Hamming\")\n",
    "ax[0].plot(x2, y1, \"r\", label=\"Hamming - mean\")\n",
    "ax[0].plot(x2, y2, \"g\", label=\"Hamming - max\")\n",
    "ax[0].plot(x2, y3, \"b\", label=\"Hamming - min\")\n",
    "ax[0].set_xlabel(\"Weight ratio\")\n",
    "ax[0].set_ylabel(\"Branching Factor\")\n",
    "ax[0].legend()\n",
    "plt.show()\n",
    "\n",
    "############### MEAN IN DETAIL ###################\n",
    "\n",
    "# Branching Factor Manhattan\n",
    "fig, ax = plt.subplots(1, 2, figsize=(15, 5))\n",
    "ax[1].set_title(\"Branching Factor - Manhattan - Mean\")\n",
    "ax[1].plot(x1, y1, \"b--\", label=\"Manhattan weight\")\n",
    "ax[1].set_xlabel(\"Weight ratio\")\n",
    "ax[1].set_ylabel(\"Average branching Factor\")\n",
    "ax[1].legend()\n",
    "\n",
    "# Expanded nodes Hamming\n",
    "ax[0].set_title(\"Branching Factor - Hamming - Mean\")\n",
    "ax[0].plot(x2, y1, \"r\", label=\"Hamming weight\")\n",
    "ax[0].set_xlabel(\"Weight ratio\")\n",
    "ax[0].set_ylabel(\"Average branching Factor\")\n",
    "ax[0].legend()\n",
    "plt.show()\n",
    "\n",
    "\n",
    "# Unexpected finding: The branching factor rises (very slightly) with rising Manhattan ratio\n"
   ]
  },
  {
   "cell_type": "markdown",
   "metadata": {},
   "source": [
    "## Min Nodes"
   ]
  },
  {
   "cell_type": "code",
   "execution_count": 5,
   "metadata": {},
   "outputs": [
    {
     "data": {
      "text/html": [
       "<div>\n",
       "<style scoped>\n",
       "    .dataframe tbody tr th:only-of-type {\n",
       "        vertical-align: middle;\n",
       "    }\n",
       "\n",
       "    .dataframe tbody tr th {\n",
       "        vertical-align: top;\n",
       "    }\n",
       "\n",
       "    .dataframe thead th {\n",
       "        text-align: right;\n",
       "    }\n",
       "</style>\n",
       "<table border=\"1\" class=\"dataframe\">\n",
       "  <thead>\n",
       "    <tr style=\"text-align: right;\">\n",
       "      <th>depth</th>\n",
       "      <th>7</th>\n",
       "      <th>8</th>\n",
       "      <th>9</th>\n",
       "      <th>12</th>\n",
       "      <th>13</th>\n",
       "      <th>14</th>\n",
       "      <th>15</th>\n",
       "      <th>16</th>\n",
       "      <th>17</th>\n",
       "      <th>18</th>\n",
       "      <th>...</th>\n",
       "      <th>25</th>\n",
       "      <th>26</th>\n",
       "      <th>27</th>\n",
       "      <th>28</th>\n",
       "      <th>29</th>\n",
       "      <th>30</th>\n",
       "      <th>31</th>\n",
       "      <th>32</th>\n",
       "      <th>33</th>\n",
       "      <th>34</th>\n",
       "    </tr>\n",
       "  </thead>\n",
       "  <tbody>\n",
       "    <tr>\n",
       "      <th>expanded_nodes</th>\n",
       "      <td>13</td>\n",
       "      <td>20</td>\n",
       "      <td>27</td>\n",
       "      <td>22</td>\n",
       "      <td>22</td>\n",
       "      <td>33</td>\n",
       "      <td>27</td>\n",
       "      <td>50</td>\n",
       "      <td>57</td>\n",
       "      <td>73</td>\n",
       "      <td>...</td>\n",
       "      <td>146</td>\n",
       "      <td>174</td>\n",
       "      <td>233</td>\n",
       "      <td>310</td>\n",
       "      <td>236</td>\n",
       "      <td>252</td>\n",
       "      <td>293</td>\n",
       "      <td>261</td>\n",
       "      <td>1372</td>\n",
       "      <td>453</td>\n",
       "    </tr>\n",
       "  </tbody>\n",
       "</table>\n",
       "<p>1 rows × 26 columns</p>\n",
       "</div>"
      ],
      "text/plain": [
       "depth           7   8   9   12  13  14  15  16  17  18  ...   25   26   27  \\\n",
       "expanded_nodes  13  20  27  22  22  33  27  50  57  73  ...  146  174  233   \n",
       "\n",
       "depth            28   29   30   31   32    33   34  \n",
       "expanded_nodes  310  236  252  293  261  1372  453  \n",
       "\n",
       "[1 rows x 26 columns]"
      ]
     },
     "execution_count": 5,
     "metadata": {},
     "output_type": "execute_result"
    }
   ],
   "source": [
    "min_value = group[['expanded_nodes']].min()\n",
    "min_value.transpose()"
   ]
  },
  {
   "cell_type": "markdown",
   "metadata": {},
   "source": [
    "## Max Nodes"
   ]
  },
  {
   "cell_type": "code",
   "execution_count": 6,
   "metadata": {},
   "outputs": [
    {
     "data": {
      "text/html": [
       "<div>\n",
       "<style scoped>\n",
       "    .dataframe tbody tr th:only-of-type {\n",
       "        vertical-align: middle;\n",
       "    }\n",
       "\n",
       "    .dataframe tbody tr th {\n",
       "        vertical-align: top;\n",
       "    }\n",
       "\n",
       "    .dataframe thead th {\n",
       "        text-align: right;\n",
       "    }\n",
       "</style>\n",
       "<table border=\"1\" class=\"dataframe\">\n",
       "  <thead>\n",
       "    <tr style=\"text-align: right;\">\n",
       "      <th>depth</th>\n",
       "      <th>7</th>\n",
       "      <th>8</th>\n",
       "      <th>9</th>\n",
       "      <th>12</th>\n",
       "      <th>13</th>\n",
       "      <th>14</th>\n",
       "      <th>15</th>\n",
       "      <th>16</th>\n",
       "      <th>17</th>\n",
       "      <th>18</th>\n",
       "      <th>...</th>\n",
       "      <th>25</th>\n",
       "      <th>26</th>\n",
       "      <th>27</th>\n",
       "      <th>28</th>\n",
       "      <th>29</th>\n",
       "      <th>30</th>\n",
       "      <th>31</th>\n",
       "      <th>32</th>\n",
       "      <th>33</th>\n",
       "      <th>34</th>\n",
       "    </tr>\n",
       "  </thead>\n",
       "  <tbody>\n",
       "    <tr>\n",
       "      <th>expanded_nodes</th>\n",
       "      <td>18</td>\n",
       "      <td>23</td>\n",
       "      <td>29</td>\n",
       "      <td>141</td>\n",
       "      <td>190</td>\n",
       "      <td>242</td>\n",
       "      <td>649</td>\n",
       "      <td>937</td>\n",
       "      <td>2535</td>\n",
       "      <td>1936</td>\n",
       "      <td>...</td>\n",
       "      <td>13744</td>\n",
       "      <td>11377</td>\n",
       "      <td>13863</td>\n",
       "      <td>21340</td>\n",
       "      <td>12365</td>\n",
       "      <td>28728</td>\n",
       "      <td>13888</td>\n",
       "      <td>13925</td>\n",
       "      <td>13227</td>\n",
       "      <td>27483</td>\n",
       "    </tr>\n",
       "  </tbody>\n",
       "</table>\n",
       "<p>1 rows × 26 columns</p>\n",
       "</div>"
      ],
      "text/plain": [
       "depth           7   8   9    12   13   14   15   16    17    18  ...     25  \\\n",
       "expanded_nodes  18  23  29  141  190  242  649  937  2535  1936  ...  13744   \n",
       "\n",
       "depth              26     27     28     29     30     31     32     33     34  \n",
       "expanded_nodes  11377  13863  21340  12365  28728  13888  13925  13227  27483  \n",
       "\n",
       "[1 rows x 26 columns]"
      ]
     },
     "execution_count": 6,
     "metadata": {},
     "output_type": "execute_result"
    }
   ],
   "source": [
    "max_value = group[['expanded_nodes']].max()\n",
    "max_value.transpose()"
   ]
  },
  {
   "cell_type": "markdown",
   "metadata": {},
   "source": [
    "## Best weights based on the least nodes per depth"
   ]
  },
  {
   "cell_type": "markdown",
   "metadata": {},
   "source": [
    "### Expanded"
   ]
  },
  {
   "cell_type": "code",
   "execution_count": 7,
   "metadata": {
    "scrolled": true
   },
   "outputs": [
    {
     "data": {
      "text/plain": [
       "array([0.95038462, 0.04961538])"
      ]
     },
     "execution_count": 7,
     "metadata": {},
     "output_type": "execute_result"
    }
   ],
   "source": [
    "min_nodes = df.loc[group['expanded_nodes'].idxmin()]\n",
    "np.mean(min_nodes['weights'].tolist(), axis=0)"
   ]
  },
  {
   "cell_type": "markdown",
   "metadata": {},
   "source": [
    "### Visited"
   ]
  },
  {
   "cell_type": "code",
   "execution_count": 8,
   "metadata": {},
   "outputs": [
    {
     "data": {
      "text/plain": [
       "array([0.95038462, 0.04961538])"
      ]
     },
     "execution_count": 8,
     "metadata": {},
     "output_type": "execute_result"
    }
   ],
   "source": [
    "min_nodes = df.loc[group['visited_nodes'].idxmin()]\n",
    "np.mean(min_nodes['weights'].tolist(), axis=0)"
   ]
  },
  {
   "cell_type": "markdown",
   "metadata": {},
   "source": [
    "## Best weights based on the weights with the least nodes of each example"
   ]
  },
  {
   "cell_type": "code",
   "execution_count": 9,
   "metadata": {},
   "outputs": [],
   "source": [
    "group_by_example = df.groupby('array')"
   ]
  },
  {
   "cell_type": "markdown",
   "metadata": {},
   "source": [
    "### Expanded"
   ]
  },
  {
   "cell_type": "code",
   "execution_count": 10,
   "metadata": {},
   "outputs": [
    {
     "data": {
      "text/plain": [
       "array([0.87291, 0.12709])"
      ]
     },
     "execution_count": 10,
     "metadata": {},
     "output_type": "execute_result"
    }
   ],
   "source": [
    "min_expanded_nodes_per_example = df.loc[group_by_example['expanded_nodes'].idxmin()]\n",
    "np.mean(min_expanded_nodes_per_example['weights'].tolist(), axis=0)"
   ]
  },
  {
   "cell_type": "markdown",
   "metadata": {},
   "source": [
    "### Visited"
   ]
  },
  {
   "cell_type": "code",
   "execution_count": 11,
   "metadata": {},
   "outputs": [
    {
     "data": {
      "text/plain": [
       "array([0.87283, 0.12717])"
      ]
     },
     "execution_count": 11,
     "metadata": {},
     "output_type": "execute_result"
    }
   ],
   "source": [
    "min_visited_nodes_per_example = df.loc[group_by_example['visited_nodes'].idxmin()]\n",
    "np.mean(min_visited_nodes_per_example['weights'].tolist(), axis=0)"
   ]
  },
  {
   "cell_type": "markdown",
   "metadata": {},
   "source": [
    "## Number of examples where Manhattan only ([1.0, 0.0]) is the best choice "
   ]
  },
  {
   "cell_type": "markdown",
   "metadata": {},
   "source": [
    "### Expanded / Visited"
   ]
  },
  {
   "cell_type": "code",
   "execution_count": 12,
   "metadata": {
    "scrolled": false
   },
   "outputs": [
    {
     "name": "stdout",
     "output_type": "stream",
     "text": [
      "Manhattan only is the best choice in 344/1000 examples for expanded nodes\n"
     ]
    }
   ],
   "source": [
    "manhattan_only_expanded = (min_expanded_nodes_per_example.loc[min_expanded_nodes_per_example['weights'] == (1.0, 0.0)]).shape[0]\n",
    "print(f\"Manhattan only is the best choice in {manhattan_only_expanded}/{min_expanded_nodes_per_example.shape[0]} examples for expanded nodes\")"
   ]
  },
  {
   "cell_type": "markdown",
   "metadata": {},
   "source": [
    "### Visited"
   ]
  },
  {
   "cell_type": "code",
   "execution_count": 13,
   "metadata": {},
   "outputs": [
    {
     "name": "stdout",
     "output_type": "stream",
     "text": [
      "Manhattan only is the best choice in 343/1000 examples for visited nodes\n"
     ]
    }
   ],
   "source": [
    "manhattan_only_visited = (min_visited_nodes_per_example.loc[min_visited_nodes_per_example['weights'] == (1.0, 0.0)]).shape[0]\n",
    "print(f\"Manhattan only is the best choice in {manhattan_only_visited}/{min_visited_nodes_per_example.shape[0]} examples for visited nodes\")"
   ]
  },
  {
   "cell_type": "markdown",
   "metadata": {},
   "source": [
    "## Best branching factor per example"
   ]
  },
  {
   "cell_type": "code",
   "execution_count": 14,
   "metadata": {},
   "outputs": [
    {
     "data": {
      "text/plain": [
       "array([0.8471, 0.1529])"
      ]
     },
     "execution_count": 14,
     "metadata": {},
     "output_type": "execute_result"
    }
   ],
   "source": [
    "min_branching_factor_per_example = df.loc[group_by_example['branching_factor'].idxmin()]\n",
    "np.mean(min_branching_factor_per_example['weights'].tolist(), axis=0)"
   ]
  }
 ],
 "metadata": {
  "kernelspec": {
   "display_name": "Python 3",
   "language": "python",
   "name": "python3"
  },
  "language_info": {
   "codemirror_mode": {
    "name": "ipython",
    "version": 3
   },
   "file_extension": ".py",
   "mimetype": "text/x-python",
   "name": "python",
   "nbconvert_exporter": "python",
   "pygments_lexer": "ipython3",
   "version": "3.9.2"
  }
 },
 "nbformat": 4,
 "nbformat_minor": 1
}