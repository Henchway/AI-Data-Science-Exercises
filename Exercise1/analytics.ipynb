{
 "cells": [
  {
   "cell_type": "markdown",
   "metadata": {},
   "source": [
    "# 8-Puzzle - Analysis of results\n",
    "\n",
    "We're generating unique random puzzles, for which we're assigning 31 different weights per example ranging from 0.7 to 1.0 for the Manhattan distance heuristic and 0.0 to 0.3 for the Hamming distance heuristic.\n",
    "\n",
    "The calculation time is mainly influenced by the depth of the solution path, as well as the mix of the weights of the heuristics. Typically the larger the Hamming distance becomes, the longer the calculation takes, therefore Hamming was capped at 0.3.\n",
    "\n",
    "For the showcase we're taking 1000 unique puzzles, each having 31 weights, which results in 31.000 unique constellations.\n",
    "\n",
    "All data set has the following columns:\n",
    "'array', 'weights', 'visited_nodes', 'expanded_nodes','branching_factor', 'time_elapsed_astar', 'depth'\n"
   ]
  },
  {
   "cell_type": "code",
   "execution_count": 1,
   "metadata": {
    "scrolled": false
   },
   "outputs": [],
   "source": [
    "import jsonpickle\n",
    "import matplotlib.pyplot as plt\n",
    "import numpy as np\n",
    "import pandas as pd\n",
    "\n",
    "with open(\"results_1000_2021-05-08.json\", \"r\") as file:\n",
    "    contents = file.read()\n",
    "    unfrozen = jsonpickle.decode(contents)\n",
    "\n",
    "df = pd.DataFrame(unfrozen)"
   ]
  },
  {
   "cell_type": "code",
   "execution_count": 18,
   "metadata": {},
   "outputs": [
    {
     "data": {
      "text/html": [
       "<div>\n",
       "<style scoped>\n",
       "    .dataframe tbody tr th:only-of-type {\n",
       "        vertical-align: middle;\n",
       "    }\n",
       "\n",
       "    .dataframe tbody tr th {\n",
       "        vertical-align: top;\n",
       "    }\n",
       "\n",
       "    .dataframe thead th {\n",
       "        text-align: right;\n",
       "    }\n",
       "</style>\n",
       "<table border=\"1\" class=\"dataframe\">\n",
       "  <thead>\n",
       "    <tr style=\"text-align: right;\">\n",
       "      <th></th>\n",
       "      <th>array</th>\n",
       "      <th>weights</th>\n",
       "      <th>visited_nodes</th>\n",
       "      <th>expanded_nodes</th>\n",
       "      <th>branching_factor</th>\n",
       "      <th>time_elapsed_astar</th>\n",
       "      <th>depth</th>\n",
       "    </tr>\n",
       "  </thead>\n",
       "  <tbody>\n",
       "    <tr>\n",
       "      <th>2258</th>\n",
       "      <td>(0, 4, 6, 5, 2, 7, 8, 3, 1)</td>\n",
       "      <td>(0.74, 0.26)</td>\n",
       "      <td>46633</td>\n",
       "      <td>27875</td>\n",
       "      <td>1.672897</td>\n",
       "      <td>267.378082</td>\n",
       "      <td>30</td>\n",
       "    </tr>\n",
       "    <tr>\n",
       "      <th>2256</th>\n",
       "      <td>(0, 4, 6, 5, 2, 7, 8, 3, 1)</td>\n",
       "      <td>(0.76, 0.24)</td>\n",
       "      <td>44734</td>\n",
       "      <td>26742</td>\n",
       "      <td>1.672762</td>\n",
       "      <td>265.512055</td>\n",
       "      <td>30</td>\n",
       "    </tr>\n",
       "    <tr>\n",
       "      <th>2257</th>\n",
       "      <td>(0, 4, 6, 5, 2, 7, 8, 3, 1)</td>\n",
       "      <td>(0.75, 0.25)</td>\n",
       "      <td>44736</td>\n",
       "      <td>26753</td>\n",
       "      <td>1.672149</td>\n",
       "      <td>264.015894</td>\n",
       "      <td>30</td>\n",
       "    </tr>\n",
       "    <tr>\n",
       "      <th>2255</th>\n",
       "      <td>(0, 4, 6, 5, 2, 7, 8, 3, 1)</td>\n",
       "      <td>(0.77, 0.23)</td>\n",
       "      <td>44504</td>\n",
       "      <td>26618</td>\n",
       "      <td>1.671914</td>\n",
       "      <td>258.450198</td>\n",
       "      <td>30</td>\n",
       "    </tr>\n",
       "    <tr>\n",
       "      <th>2254</th>\n",
       "      <td>(0, 4, 6, 5, 2, 7, 8, 3, 1)</td>\n",
       "      <td>(0.78, 0.22)</td>\n",
       "      <td>43113</td>\n",
       "      <td>25790</td>\n",
       "      <td>1.671656</td>\n",
       "      <td>249.923261</td>\n",
       "      <td>30</td>\n",
       "    </tr>\n",
       "    <tr>\n",
       "      <th>...</th>\n",
       "      <td>...</td>\n",
       "      <td>...</td>\n",
       "      <td>...</td>\n",
       "      <td>...</td>\n",
       "      <td>...</td>\n",
       "      <td>...</td>\n",
       "      <td>...</td>\n",
       "    </tr>\n",
       "    <tr>\n",
       "      <th>17148</th>\n",
       "      <td>(3, 5, 1, 4, 7, 0, 6, 8, 2)</td>\n",
       "      <td>(0.95, 0.05)</td>\n",
       "      <td>37</td>\n",
       "      <td>19</td>\n",
       "      <td>1.894737</td>\n",
       "      <td>0.000000</td>\n",
       "      <td>9</td>\n",
       "    </tr>\n",
       "    <tr>\n",
       "      <th>17145</th>\n",
       "      <td>(3, 5, 1, 4, 7, 0, 6, 8, 2)</td>\n",
       "      <td>(0.98, 0.02)</td>\n",
       "      <td>37</td>\n",
       "      <td>19</td>\n",
       "      <td>1.894737</td>\n",
       "      <td>0.000000</td>\n",
       "      <td>9</td>\n",
       "    </tr>\n",
       "    <tr>\n",
       "      <th>17143</th>\n",
       "      <td>(3, 5, 1, 4, 7, 0, 6, 8, 2)</td>\n",
       "      <td>(1.0, 0.0)</td>\n",
       "      <td>39</td>\n",
       "      <td>21</td>\n",
       "      <td>1.809524</td>\n",
       "      <td>0.000000</td>\n",
       "      <td>9</td>\n",
       "    </tr>\n",
       "    <tr>\n",
       "      <th>9269</th>\n",
       "      <td>(0, 2, 5, 1, 3, 4, 6, 7, 8)</td>\n",
       "      <td>(1.0, 0.0)</td>\n",
       "      <td>18</td>\n",
       "      <td>9</td>\n",
       "      <td>1.888889</td>\n",
       "      <td>0.000000</td>\n",
       "      <td>6</td>\n",
       "    </tr>\n",
       "    <tr>\n",
       "      <th>17170</th>\n",
       "      <td>(3, 5, 1, 4, 7, 0, 6, 8, 2)</td>\n",
       "      <td>(0.73, 0.27)</td>\n",
       "      <td>37</td>\n",
       "      <td>19</td>\n",
       "      <td>1.894737</td>\n",
       "      <td>0.000000</td>\n",
       "      <td>9</td>\n",
       "    </tr>\n",
       "  </tbody>\n",
       "</table>\n",
       "<p>31000 rows × 7 columns</p>\n",
       "</div>"
      ],
      "text/plain": [
       "                             array       weights  visited_nodes  \\\n",
       "2258   (0, 4, 6, 5, 2, 7, 8, 3, 1)  (0.74, 0.26)          46633   \n",
       "2256   (0, 4, 6, 5, 2, 7, 8, 3, 1)  (0.76, 0.24)          44734   \n",
       "2257   (0, 4, 6, 5, 2, 7, 8, 3, 1)  (0.75, 0.25)          44736   \n",
       "2255   (0, 4, 6, 5, 2, 7, 8, 3, 1)  (0.77, 0.23)          44504   \n",
       "2254   (0, 4, 6, 5, 2, 7, 8, 3, 1)  (0.78, 0.22)          43113   \n",
       "...                            ...           ...            ...   \n",
       "17148  (3, 5, 1, 4, 7, 0, 6, 8, 2)  (0.95, 0.05)             37   \n",
       "17145  (3, 5, 1, 4, 7, 0, 6, 8, 2)  (0.98, 0.02)             37   \n",
       "17143  (3, 5, 1, 4, 7, 0, 6, 8, 2)    (1.0, 0.0)             39   \n",
       "9269   (0, 2, 5, 1, 3, 4, 6, 7, 8)    (1.0, 0.0)             18   \n",
       "17170  (3, 5, 1, 4, 7, 0, 6, 8, 2)  (0.73, 0.27)             37   \n",
       "\n",
       "       expanded_nodes  branching_factor  time_elapsed_astar  depth  \n",
       "2258            27875          1.672897          267.378082     30  \n",
       "2256            26742          1.672762          265.512055     30  \n",
       "2257            26753          1.672149          264.015894     30  \n",
       "2255            26618          1.671914          258.450198     30  \n",
       "2254            25790          1.671656          249.923261     30  \n",
       "...               ...               ...                 ...    ...  \n",
       "17148              19          1.894737            0.000000      9  \n",
       "17145              19          1.894737            0.000000      9  \n",
       "17143              21          1.809524            0.000000      9  \n",
       "9269                9          1.888889            0.000000      6  \n",
       "17170              19          1.894737            0.000000      9  \n",
       "\n",
       "[31000 rows x 7 columns]"
      ]
     },
     "execution_count": 18,
     "metadata": {},
     "output_type": "execute_result"
    }
   ],
   "source": [
    "df.sort_values('time_elapsed_astar', ascending=False)"
   ]
  },
  {
   "cell_type": "markdown",
   "metadata": {},
   "source": [
    "# Nomenclature\n",
    "\n",
    "(This may be interpreted in a few different ways, so I'll state it here)\n",
    "\n",
    "- Visited Nodes. All nodes in the tree (visited in the sense as actually generated in the code)\n",
    "- Expanded Nodes: All nodes which have children (non-leaf nodes)"
   ]
  },
  {
   "cell_type": "markdown",
   "metadata": {},
   "source": [
    "## Puzzle-distribution by depth\n",
    "Group results by depth (= how many steps were required to finish the puzzle), show the distribution of depths as chart"
   ]
  },
  {
   "cell_type": "code",
   "execution_count": 3,
   "metadata": {
    "scrolled": false
   },
   "outputs": [
    {
     "data": {
      "image/png": "[encoded data removed]",
      "text/plain": [
       "<Figure size 1080x360 with 1 Axes>"
      ]
     },
     "metadata": {
      "needs_background": "light"
     },
     "output_type": "display_data"
    }
   ],
   "source": [
    "group = df.groupby(['depth'])\n",
    "x_pos = [i for i, _ in enumerate(group)]\n",
    "fig, ax = plt.subplots(figsize=(15, 5))\n",
    "plt.xticks(list(group.groups.keys()))\n",
    "ax.bar(list(group.groups.keys()), list(group.size()))\n",
    "plt.show()\n",
    "\n",
    "# In all our previous tests it has shown that when using a random generation of puzzles,\n",
    "# a seemingly gaussian distribution of puzzle-depths occurs\n"
   ]
  },
  {
   "cell_type": "markdown",
   "metadata": {},
   "source": [
    "## Print constellation for all (average)\n",
    "\n",
    "Shows the average expanded nodes based on the weight"
   ]
  },
  {
   "cell_type": "markdown",
   "metadata": {},
   "source": [
    "### Average expanded & visited nodes"
   ]
  },
  {
   "cell_type": "code",
   "execution_count": 4,
   "metadata": {
    "scrolled": false
   },
   "outputs": [
    {
     "data": {
      "image/png": "[encoded data removed]",
      "text/plain": [
       "<Figure size 1080x360 with 2 Axes>"
      ]
     },
     "metadata": {
      "needs_background": "light"
     },
     "output_type": "display_data"
    },
    {
     "data": {
      "image/png": "[encoded data removed]",
      "text/plain": [
       "<Figure size 1080x360 with 2 Axes>"
      ]
     },
     "metadata": {
      "needs_background": "light"
     },
     "output_type": "display_data"
    }
   ],
   "source": [
    "weight_group = df.groupby(['weights'])\n",
    "\n",
    "# Expanded nodes\n",
    "x1 = np.array(list(weight_group.groups.keys()))[:, 0]\n",
    "x2 = np.array(list(weight_group.groups.keys()))[:, 1]\n",
    "y1 = weight_group['expanded_nodes'].mean()\n",
    "\n",
    "# Visited nodes\n",
    "y2 = weight_group['visited_nodes'].mean()\n",
    "\n",
    "# Expanded nodes Manhattan\n",
    "fig, ax = plt.subplots(1, 2, figsize=(15, 5))\n",
    "ax[1].set_title(\"Expanded Nodes - Manhattan\")\n",
    "ax[1].plot(x1, y1, \"b--\", label=\"Manhattan weight\")\n",
    "ax[1].set_xlabel(\"Weight ratio\")\n",
    "ax[1].set_ylabel(\"Average expanded nodes\")\n",
    "ax[1].legend()\n",
    "\n",
    "# Expanded nodes Hamming\n",
    "ax[0].set_title(\"Expanded Nodes - Hamming\")\n",
    "ax[0].plot(x2, y1, \"r\", label=\"Hamming weight\")\n",
    "ax[0].set_xlabel(\"Weight ratio\")\n",
    "ax[0].set_ylabel(\"Average expanded nodes\")\n",
    "ax[0].legend()\n",
    "plt.show()\n",
    "\n",
    "# Visited nodes Manhattan\n",
    "fig, ax = plt.subplots(1, 2, figsize=(15, 5))\n",
    "ax[1].set_title(\"Visited Nodes - Manhattan\")\n",
    "ax[1].plot(x1, y2, \"g--\", label=\"Manhattan weight\")\n",
    "ax[1].set_xlabel(\"Weight ratio\")\n",
    "ax[1].set_ylabel(\"Average expanded nodes\")\n",
    "ax[1].legend()\n",
    "\n",
    "# Visited nodes Hamming\n",
    "ax[0].set_title(\"Visited Nodes - Hamming\")\n",
    "ax[0].plot(x2, y2, \"m\", label=\"Hamming weight\")\n",
    "ax[0].set_xlabel(\"Weight ratio\")\n",
    "ax[0].set_ylabel(\"Average expanded nodes\")\n",
    "ax[0].legend()\n",
    "plt.show()\n",
    "\n",
    "# We can see that expanded and visited nodes follow a very similar curve."
   ]
  },
  {
   "cell_type": "markdown",
   "metadata": {},
   "source": [
    "### Average Branching factor"
   ]
  },
  {
   "cell_type": "code",
   "execution_count": 5,
   "metadata": {
    "pycharm": {
     "name": "#%%\n"
    },
    "scrolled": false
   },
   "outputs": [
    {
     "data": {
      "image/png": "[encoded data removed]",
      "text/plain": [
       "<Figure size 1080x360 with 2 Axes>"
      ]
     },
     "metadata": {
      "needs_background": "light"
     },
     "output_type": "display_data"
    },
    {
     "data": {
      "image/png": "[encoded data removed]",
      "text/plain": [
       "<Figure size 1080x360 with 2 Axes>"
      ]
     },
     "metadata": {
      "needs_background": "light"
     },
     "output_type": "display_data"
    }
   ],
   "source": [
    "weight_group = df.groupby(['weights'])\n",
    "\n",
    "# Branching factor\n",
    "x1 = np.array(list(weight_group.groups.keys()))[:, 0]\n",
    "x2 = np.array(list(weight_group.groups.keys()))[:, 1]\n",
    "y1 = weight_group['branching_factor'].mean()\n",
    "y2 = weight_group['branching_factor'].max()\n",
    "y3 = weight_group['branching_factor'].min()\n",
    "\n",
    "\n",
    "# Branching Factor Manhattan\n",
    "fig, ax = plt.subplots(1,2, figsize=(15, 5))\n",
    "ax[1].set_title(\"Branching Factor - Manhattan\")\n",
    "ax[1].plot(x1, y1, \"r--\", label=\"Manhattan - mean\")\n",
    "ax[1].plot(x1, y2, \"g--\", label=\"Manhattan - max\")\n",
    "ax[1].plot(x1, y3, \"b--\", label=\"Manhattan - min\")\n",
    "ax[1].set_xlabel(\"Weight ratio\")\n",
    "ax[1].set_ylabel(\"Branching Factor\")\n",
    "ax[1].legend()\n",
    "\n",
    "# Branching factor Hamming\n",
    "ax[0].set_title(\"Branching Factor - Hamming\")\n",
    "ax[0].plot(x2, y1, \"r\", label=\"Hamming - mean\")\n",
    "ax[0].plot(x2, y2, \"g\", label=\"Hamming - max\")\n",
    "ax[0].plot(x2, y3, \"b\", label=\"Hamming - min\")\n",
    "ax[0].set_xlabel(\"Weight ratio\")\n",
    "ax[0].set_ylabel(\"Branching Factor\")\n",
    "ax[0].legend()\n",
    "plt.show()\n",
    "\n",
    "############### MEAN IN DETAIL ###################\n",
    "\n",
    "# Branching Factor Manhattan\n",
    "fig, ax = plt.subplots(1, 2, figsize=(15, 5))\n",
    "ax[1].set_title(\"Branching Factor - Manhattan - Mean\")\n",
    "ax[1].plot(x1, y1, \"b--\", label=\"Manhattan weight\")\n",
    "ax[1].set_xlabel(\"Weight ratio\")\n",
    "ax[1].set_ylabel(\"Average branching Factor\")\n",
    "ax[1].legend()\n",
    "\n",
    "# Expanded nodes Hamming\n",
    "ax[0].set_title(\"Branching Factor - Hamming - Mean\")\n",
    "ax[0].plot(x2, y1, \"r\", label=\"Hamming weight\")\n",
    "ax[0].set_xlabel(\"Weight ratio\")\n",
    "ax[0].set_ylabel(\"Average branching Factor\")\n",
    "ax[0].legend()\n",
    "plt.show()\n",
    "\n",
    "\n",
    "# Unexpected finding: The branching factor rises (very slightly) with rising Manhattan ratio\n"
   ]
  },
  {
   "cell_type": "markdown",
   "metadata": {},
   "source": [
    "## Min Nodes"
   ]
  },
  {
   "cell_type": "code",
   "execution_count": 6,
   "metadata": {},
   "outputs": [
    {
     "data": {
      "text/html": [
       "<div>\n",
       "<style scoped>\n",
       "    .dataframe tbody tr th:only-of-type {\n",
       "        vertical-align: middle;\n",
       "    }\n",
       "\n",
       "    .dataframe tbody tr th {\n",
       "        vertical-align: top;\n",
       "    }\n",
       "\n",
       "    .dataframe thead th {\n",
       "        text-align: right;\n",
       "    }\n",
       "</style>\n",
       "<table border=\"1\" class=\"dataframe\">\n",
       "  <thead>\n",
       "    <tr style=\"text-align: right;\">\n",
       "      <th>depth</th>\n",
       "      <th>6</th>\n",
       "      <th>7</th>\n",
       "      <th>9</th>\n",
       "      <th>10</th>\n",
       "      <th>11</th>\n",
       "      <th>12</th>\n",
       "      <th>13</th>\n",
       "      <th>14</th>\n",
       "      <th>15</th>\n",
       "      <th>16</th>\n",
       "      <th>...</th>\n",
       "      <th>21</th>\n",
       "      <th>22</th>\n",
       "      <th>23</th>\n",
       "      <th>24</th>\n",
       "      <th>25</th>\n",
       "      <th>26</th>\n",
       "      <th>27</th>\n",
       "      <th>28</th>\n",
       "      <th>29</th>\n",
       "      <th>30</th>\n",
       "    </tr>\n",
       "  </thead>\n",
       "  <tbody>\n",
       "    <tr>\n",
       "      <th>expanded_nodes</th>\n",
       "      <td>6</td>\n",
       "      <td>8</td>\n",
       "      <td>19</td>\n",
       "      <td>15</td>\n",
       "      <td>21</td>\n",
       "      <td>19</td>\n",
       "      <td>26</td>\n",
       "      <td>38</td>\n",
       "      <td>37</td>\n",
       "      <td>38</td>\n",
       "      <td>...</td>\n",
       "      <td>248</td>\n",
       "      <td>197</td>\n",
       "      <td>347</td>\n",
       "      <td>341</td>\n",
       "      <td>778</td>\n",
       "      <td>738</td>\n",
       "      <td>2013</td>\n",
       "      <td>2965</td>\n",
       "      <td>7707</td>\n",
       "      <td>10090</td>\n",
       "    </tr>\n",
       "  </tbody>\n",
       "</table>\n",
       "<p>1 rows × 24 columns</p>\n",
       "</div>"
      ],
      "text/plain": [
       "depth           6   7   9   10  11  12  13  14  15  16  ...   21   22   23  \\\n",
       "expanded_nodes   6   8  19  15  21  19  26  38  37  38  ...  248  197  347   \n",
       "\n",
       "depth            24   25   26    27    28    29     30  \n",
       "expanded_nodes  341  778  738  2013  2965  7707  10090  \n",
       "\n",
       "[1 rows x 24 columns]"
      ]
     },
     "execution_count": 6,
     "metadata": {},
     "output_type": "execute_result"
    }
   ],
   "source": [
    "min_value = group[['expanded_nodes']].min()\n",
    "min_value.transpose()"
   ]
  },
  {
   "cell_type": "markdown",
   "metadata": {},
   "source": [
    "## Max Nodes"
   ]
  },
  {
   "cell_type": "code",
   "execution_count": 7,
   "metadata": {},
   "outputs": [
    {
     "data": {
      "text/html": [
       "<div>\n",
       "<style scoped>\n",
       "    .dataframe tbody tr th:only-of-type {\n",
       "        vertical-align: middle;\n",
       "    }\n",
       "\n",
       "    .dataframe tbody tr th {\n",
       "        vertical-align: top;\n",
       "    }\n",
       "\n",
       "    .dataframe thead th {\n",
       "        text-align: right;\n",
       "    }\n",
       "</style>\n",
       "<table border=\"1\" class=\"dataframe\">\n",
       "  <thead>\n",
       "    <tr style=\"text-align: right;\">\n",
       "      <th>depth</th>\n",
       "      <th>6</th>\n",
       "      <th>7</th>\n",
       "      <th>9</th>\n",
       "      <th>10</th>\n",
       "      <th>11</th>\n",
       "      <th>12</th>\n",
       "      <th>13</th>\n",
       "      <th>14</th>\n",
       "      <th>15</th>\n",
       "      <th>16</th>\n",
       "      <th>...</th>\n",
       "      <th>21</th>\n",
       "      <th>22</th>\n",
       "      <th>23</th>\n",
       "      <th>24</th>\n",
       "      <th>25</th>\n",
       "      <th>26</th>\n",
       "      <th>27</th>\n",
       "      <th>28</th>\n",
       "      <th>29</th>\n",
       "      <th>30</th>\n",
       "    </tr>\n",
       "  </thead>\n",
       "  <tbody>\n",
       "    <tr>\n",
       "      <th>expanded_nodes</th>\n",
       "      <td>9</td>\n",
       "      <td>10</td>\n",
       "      <td>21</td>\n",
       "      <td>17</td>\n",
       "      <td>25</td>\n",
       "      <td>77</td>\n",
       "      <td>117</td>\n",
       "      <td>106</td>\n",
       "      <td>175</td>\n",
       "      <td>283</td>\n",
       "      <td>...</td>\n",
       "      <td>2104</td>\n",
       "      <td>3188</td>\n",
       "      <td>4164</td>\n",
       "      <td>5813</td>\n",
       "      <td>9323</td>\n",
       "      <td>12611</td>\n",
       "      <td>16420</td>\n",
       "      <td>18129</td>\n",
       "      <td>22712</td>\n",
       "      <td>28357</td>\n",
       "    </tr>\n",
       "  </tbody>\n",
       "</table>\n",
       "<p>1 rows × 24 columns</p>\n",
       "</div>"
      ],
      "text/plain": [
       "depth           6   7   9   10  11  12   13   14   15   16  ...    21    22  \\\n",
       "expanded_nodes   9  10  21  17  25  77  117  106  175  283  ...  2104  3188   \n",
       "\n",
       "depth             23    24    25     26     27     28     29     30  \n",
       "expanded_nodes  4164  5813  9323  12611  16420  18129  22712  28357  \n",
       "\n",
       "[1 rows x 24 columns]"
      ]
     },
     "execution_count": 7,
     "metadata": {},
     "output_type": "execute_result"
    }
   ],
   "source": [
    "max_value = group[['expanded_nodes']].max()\n",
    "max_value.transpose()"
   ]
  },
  {
   "cell_type": "markdown",
   "metadata": {},
   "source": [
    "## Best weights based on the least nodes per depth"
   ]
  },
  {
   "cell_type": "markdown",
   "metadata": {},
   "source": [
    "### Expanded"
   ]
  },
  {
   "cell_type": "code",
   "execution_count": 8,
   "metadata": {
    "scrolled": true
   },
   "outputs": [
    {
     "data": {
      "text/plain": [
       "array([0.97041667, 0.02958333])"
      ]
     },
     "execution_count": 8,
     "metadata": {},
     "output_type": "execute_result"
    }
   ],
   "source": [
    "min_nodes = df.loc[group['expanded_nodes'].idxmin()]\n",
    "np.mean(min_nodes['weights'].tolist(), axis=0)"
   ]
  },
  {
   "cell_type": "markdown",
   "metadata": {},
   "source": [
    "### Visited"
   ]
  },
  {
   "cell_type": "code",
   "execution_count": 9,
   "metadata": {},
   "outputs": [
    {
     "data": {
      "text/plain": [
       "array([0.97041667, 0.02958333])"
      ]
     },
     "execution_count": 9,
     "metadata": {},
     "output_type": "execute_result"
    }
   ],
   "source": [
    "min_nodes = df.loc[group['visited_nodes'].idxmin()]\n",
    "np.mean(min_nodes['weights'].tolist(), axis=0)"
   ]
  },
  {
   "cell_type": "markdown",
   "metadata": {},
   "source": [
    "## Best weights based on the weights with the least nodes of each example"
   ]
  },
  {
   "cell_type": "code",
   "execution_count": 10,
   "metadata": {},
   "outputs": [],
   "source": [
    "group_by_example = df.groupby('array')"
   ]
  },
  {
   "cell_type": "markdown",
   "metadata": {},
   "source": [
    "### Expanded"
   ]
  },
  {
   "cell_type": "code",
   "execution_count": 11,
   "metadata": {},
   "outputs": [
    {
     "data": {
      "text/plain": [
       "array([0.97907, 0.02093])"
      ]
     },
     "execution_count": 11,
     "metadata": {},
     "output_type": "execute_result"
    }
   ],
   "source": [
    "min_expanded_nodes_per_example = df.loc[group_by_example['expanded_nodes'].idxmin()]\n",
    "np.mean(min_expanded_nodes_per_example['weights'].tolist(), axis=0)"
   ]
  },
  {
   "cell_type": "markdown",
   "metadata": {},
   "source": [
    "### Visited"
   ]
  },
  {
   "cell_type": "code",
   "execution_count": 12,
   "metadata": {},
   "outputs": [
    {
     "data": {
      "text/plain": [
       "array([0.97758, 0.02242])"
      ]
     },
     "execution_count": 12,
     "metadata": {},
     "output_type": "execute_result"
    }
   ],
   "source": [
    "min_visited_nodes_per_example = df.loc[group_by_example['visited_nodes'].idxmin()]\n",
    "np.mean(min_visited_nodes_per_example['weights'].tolist(), axis=0)"
   ]
  },
  {
   "cell_type": "markdown",
   "metadata": {},
   "source": [
    "## Number of examples where Manhattan only ([1.0, 0.0]) is the best choice "
   ]
  },
  {
   "cell_type": "markdown",
   "metadata": {},
   "source": [
    "### Expanded / Visited"
   ]
  },
  {
   "cell_type": "code",
   "execution_count": 13,
   "metadata": {
    "scrolled": false
   },
   "outputs": [
    {
     "name": "stdout",
     "output_type": "stream",
     "text": [
      "Manhattan only is the best choice in 792/1000 examples for expanded nodes\n"
     ]
    }
   ],
   "source": [
    "manhattan_only_expanded = (min_expanded_nodes_per_example.loc[min_expanded_nodes_per_example['weights'] == (1.0, 0.0)]).shape[0]\n",
    "print(f\"Manhattan only is the best choice in {manhattan_only_expanded}/{min_expanded_nodes_per_example.shape[0]} examples for expanded nodes\")"
   ]
  },
  {
   "cell_type": "markdown",
   "metadata": {},
   "source": [
    "### Visited"
   ]
  },
  {
   "cell_type": "code",
   "execution_count": 14,
   "metadata": {},
   "outputs": [
    {
     "name": "stdout",
     "output_type": "stream",
     "text": [
      "Manhattan only is the best choice in 787/1000 examples for visited nodes\n"
     ]
    }
   ],
   "source": [
    "manhattan_only_visited = (min_visited_nodes_per_example.loc[min_visited_nodes_per_example['weights'] == (1.0, 0.0)]).shape[0]\n",
    "print(f\"Manhattan only is the best choice in {manhattan_only_visited}/{min_visited_nodes_per_example.shape[0]} examples for visited nodes\")"
   ]
  },
  {
   "cell_type": "markdown",
   "metadata": {},
   "source": [
    "## Best weights based on the branching factor per example"
   ]
  },
  {
   "cell_type": "code",
   "execution_count": 15,
   "metadata": {},
   "outputs": [
    {
     "data": {
      "text/plain": [
       "array([0.82943, 0.17057])"
      ]
     },
     "execution_count": 15,
     "metadata": {},
     "output_type": "execute_result"
    }
   ],
   "source": [
    "min_branching_factor_per_example = df.loc[group_by_example['branching_factor'].idxmin()]\n",
    "np.mean(min_branching_factor_per_example['weights'].tolist(), axis=0)"
   ]
  }
 ],
 "metadata": {
  "kernelspec": {
   "display_name": "Python 3",
   "language": "python",
   "name": "python3"
  },
  "language_info": {
   "codemirror_mode": {
    "name": "ipython",
    "version": 3
   },
   "file_extension": ".py",
   "mimetype": "text/x-python",
   "name": "python",
   "nbconvert_exporter": "python",
   "pygments_lexer": "ipython3",
   "version": "3.9.2"
  }
 },
 "nbformat": 4,
 "nbformat_minor": 1
}